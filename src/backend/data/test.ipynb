{
 "cells": [
  {
   "cell_type": "code",
   "execution_count": 1,
   "metadata": {
    "metadata": {}
   },
   "outputs": [],
   "source": [
    "\"\"\"Module to ingest parquet data into the database.\"\"\"\n",
    "import os\n",
    "import sys\n",
    "import glob\n",
    "from typing import List, Any, Tuple, Dict\n",
    "from datetime import datetime\n",
    "from urllib.parse import urlparse\n",
    "import pandas as pd\n",
    "from prisma import Prisma\n",
    "\n",
    "\n",
    "from backend.paths import DATA_DIR, ROOT_DIR, MLB_DATA_DIR\n",
    "\n",
    "\n"
   ]
  },
  {
   "cell_type": "code",
   "execution_count": 2,
   "metadata": {},
   "outputs": [
    {
     "name": "stdout",
     "output_type": "stream",
     "text": [
      "['/home/jbox/coding/ballerz/src/backend/data/mlb/teams.parquet', '/home/jbox/coding/ballerz/src/backend/data/mlb/roster.parquet', '/home/jbox/coding/ballerz/src/backend/data/mlb/people.parquet']\n"
     ]
    }
   ],
   "source": [
    "\n",
    "def get_parquet_files() -> List[str]:\n",
    "    \"\"\"Get the list of parquet files in the data directory.\"\"\"\n",
    "    pattern = f\"{MLB_DATA_DIR}/**/*.parquet\"\n",
    "    return list(glob.iglob(pattern, recursive=True))\n",
    "\n",
    "parquet_file_list = get_parquet_files()\n",
    "print(parquet_file_list)\n"
   ]
  },
  {
   "cell_type": "code",
   "execution_count": null,
   "metadata": {},
   "outputs": [],
   "source": [
    "def create_prisma_db_tables()"
   ]
  },
  {
   "cell_type": "code",
   "execution_count": null,
   "metadata": {},
   "outputs": [],
   "source": []
  },
  {
   "cell_type": "code",
   "execution_count": null,
   "metadata": {},
   "outputs": [],
   "source": []
  },
  {
   "cell_type": "code",
   "execution_count": null,
   "metadata": {},
   "outputs": [],
   "source": []
  },
  {
   "cell_type": "code",
   "execution_count": 4,
   "metadata": {
    "metadata": {}
   },
   "outputs": [
    {
     "data": {
      "text/plain": [
       "'teams'"
      ]
     },
     "execution_count": 4,
     "metadata": {},
     "output_type": "execute_result"
    }
   ],
   "source": [
    "def get_parquet_files() -> List[str]:\n",
    "    \"\"\"Get the list of parquet files in the data directory.\"\"\"\n",
    "    parquet_files = []\n",
    "    for root, _, files in os.walk(MLB_DATA_DIR):\n",
    "        parquet_files.extend(\n",
    "            os.path.join(root, file)\n",
    "            for file in files\n",
    "            if file.endswith(\".parquet\")\n",
    "        )\n",
    "    return parquet_files\n",
    "\n",
    "\n",
    "def get_table_name(file_path: str) -> str:\n",
    "    \"\"\"Get the table name from the file path.\"\"\"\n",
    "    return os.path.basename(file_path).replace(\".parquet\", \"\")\n",
    "\n",
    "\n",
    "get_table_name(get_parquet_files()[0])"
   ]
  },
  {
   "cell_type": "code",
   "execution_count": null,
   "metadata": {},
   "outputs": [],
   "source": []
  },
  {
   "cell_type": "code",
   "execution_count": null,
   "metadata": {},
   "outputs": [],
   "source": [
    "\n",
    "def ingest_parquet_data(file_name: str) -> Tuple[Dict[str, Any], List[Document]]:\n",
    "    \"\"\"Ingest parquet data into the database.\n",
    "\n",
    "    Args:\n",
    "        file_name (str): The name of the parquet file to ingest.\n",
    "\n",
    "    Returns:\n",
    "        Tuple[Dict[str, Any], List[Document]]: A tuple containing the metadata and the list of documents ingested.\n",
    "    \"\"\"\n",
    "    # Prisma instance\n",
    "    db = Prisma()\n",
    "    db.connect()\n",
    "\n",
    "    # Read the parquet file\n",
    "    file_path = os.path.join(DATA_DIR, file_name)\n",
    "    df = pd.read_parquet(file_path)\n",
    "\n",
    "    # Get the metadata\n",
    "    metadata = {\n",
    "        'file_name': file_name,\n",
    "        'file_path': file_path,\n",
    "        'num_rows': df.shape[0],\n",
    "        'num_columns': df.shape[1],\n",
    "        'columns': df.columns.tolist(),\n",
    "        'created_at': datetime.now(),\n",
    "    }\n",
    "\n",
    "    # Ingest the data\n",
    "    documents = []\n",
    "    for i, row in df.iterrows():\n",
    "        document = db.document.create(\n",
    "            {\n",
    "                'data': row.to_dict(),\n",
    "                'metadata': metadata,\n",
    "            }\n",
    "        )\n",
    "        documents.append(document)\n",
    "\n",
    "    db.disconnect()\n",
    "\n",
    "    return metadata, documents  # type: ignore                                                                  \n",
    "\n"
   ]
  }
 ],
 "metadata": {
  "kernelspec": {
   "display_name": ".venv",
   "language": "python",
   "name": "python3"
  },
  "language_info": {
   "codemirror_mode": {
    "name": "ipython",
    "version": 3
   },
   "file_extension": ".py",
   "mimetype": "text/x-python",
   "name": "python",
   "nbconvert_exporter": "python",
   "pygments_lexer": "ipython3",
   "version": "3.12.2"
  }
 },
 "nbformat": 4,
 "nbformat_minor": 2
}
